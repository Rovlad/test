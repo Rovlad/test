{
  "nbformat": 4,
  "nbformat_minor": 0,
  "metadata": {
    "colab": {
      "name": "CP system remaining life simulation",
      "provenance": [],
      "include_colab_link": true
    },
    "kernelspec": {
      "name": "python3",
      "display_name": "Python 3"
    }
  },
  "cells": [
    {
      "cell_type": "markdown",
      "metadata": {
        "id": "view-in-github",
        "colab_type": "text"
      },
      "source": [
        "<a href=\"https://colab.research.google.com/github/Rovlad/test/blob/main/CP_system_remaining_life_simulation.ipynb\" target=\"_parent\"><img src=\"https://colab.research.google.com/assets/colab-badge.svg\" alt=\"Open In Colab\"/></a>"
      ]
    },
    {
      "cell_type": "code",
      "metadata": {
        "id": "pL1VxRneuLp_"
      },
      "source": [
        "import numpy as np\n",
        "import pandas as pd\n",
        "import matplotlib.pyplot as plt\n",
        "import seaborn as sns"
      ],
      "execution_count": null,
      "outputs": []
    },
    {
      "cell_type": "code",
      "metadata": {
        "colab": {
          "base_uri": "https://localhost:8080/"
        },
        "id": "fyVhb2KMGv6Q",
        "outputId": "472bbbb9-f964-4c83-dfeb-b2e1af662a39"
      },
      "source": [
        "i1=1*10**-3 # final current density A/m2 for the coated section (add + 0.2mA/m2 per degre)\n",
        "i2=107*10**-3 # final current density A/m2 for the bare steel (add 0.2mA/m2 per degre) from DNV RP B401, sub tropical, <100m depth\n",
        "p=0.0345 # percentage of the exposed area at the start of calcs\n",
        "A = 60964 # area of pipe to be protected (m2)\n",
        "utilisation=0.8 # anodes utilisation factor\n",
        "anode_capacity = 1600 # electrochemical capacity (A.h/kg)\n",
        "anodesmassleft = 0.50*69600 # number of anodes left at time of last inspection (kg) (average depletion observed on the segment x original anode mass)\n",
        "\n",
        "def remlife (area, anodesmassleft, p): # function for calculating a CP remaining life \n",
        "  count=0\n",
        "  capacity=anodesmassleft*anode_capacity*utilisation # as per DNV RP B401 Total capacity (A.h) = total left mass of anode (kg) x utilisation x electroch.capacity (A.h/kg)\n",
        "  while capacity >0:\n",
        "    I=area*(i1*(1-p)+i2*p) # final current demand (A) including consumption of bare and coated pipe\n",
        "    capacity=capacity - I*30*24 # original capacity - capacity lost per month (A.h)\n",
        "    p=p+p*0.0003/12 # increase of coating breakdown per month \n",
        "    count+=1\n",
        "  return count \n",
        "\n",
        "remlife (A, anodesmassleft, p)/12 # total remaining life in years"
      ],
      "execution_count": null,
      "outputs": [
        {
          "output_type": "execute_result",
          "data": {
            "text/plain": [
              "18.166666666666668"
            ]
          },
          "metadata": {
            "tags": []
          },
          "execution_count": 8
        }
      ]
    },
    {
      "cell_type": "code",
      "metadata": {
        "colab": {
          "base_uri": "https://localhost:8080/",
          "height": 467
        },
        "id": "YYz7dx7_7cGZ",
        "outputId": "d39addd1-8868-4d23-fb86-edde4d16c36d"
      },
      "source": [
        "yearsleft = []\n",
        "anodes_initial = 69600 # intial weight of the anodes (kg)\n",
        "area = 60964 # total area of the pipeline segment (m2)\n",
        "coating_avg=0.11 # average exposed area by the end of the design life\n",
        "f1=0.15 # coef to define 1 standard deviation\n",
        "coating_stddev=coating_avg*f1\n",
        "anodes_wastage_average=0.5\n",
        "anodes_wastage_stndev=anodes_wastage_average*f1\n",
        "for i in range (10000):\n",
        "  p = np.random.normal(coating_avg, coating_stddev, 1)[0]\n",
        "  anodesleft = anodes_initial - anodes_initial*np.random.normal(anodes_wastage_average, anodes_wastage_stndev, 1)[0]\n",
        "  yearsleft.append (remlife(area, anodesleft, p)/12)\n",
        "\n",
        "newar = np.array (yearsleft)\n",
        "conf = newar.mean() - 2*newar.std()\n",
        "print (newar.mean (), conf, newar.std())\n",
        "plt.figure(figsize=(16, 6))\n",
        "plt.axvline(conf, 0, 1)\n",
        "sns.distplot (yearsleft, bins=40)"
      ],
      "execution_count": null,
      "outputs": [
        {
          "output_type": "stream",
          "text": [
            "6.131783333333334 3.915537921982566 1.108122705675384\n"
          ],
          "name": "stdout"
        },
        {
          "output_type": "stream",
          "text": [
            "/usr/local/lib/python3.7/dist-packages/seaborn/distributions.py:2557: FutureWarning: `distplot` is a deprecated function and will be removed in a future version. Please adapt your code to use either `displot` (a figure-level function with similar flexibility) or `histplot` (an axes-level function for histograms).\n",
            "  warnings.warn(msg, FutureWarning)\n"
          ],
          "name": "stderr"
        },
        {
          "output_type": "execute_result",
          "data": {
            "text/plain": [
              "<matplotlib.axes._subplots.AxesSubplot at 0x7fcf37fb6450>"
            ]
          },
          "metadata": {
            "tags": []
          },
          "execution_count": 12
        },
        {
          "output_type": "display_data",
          "data": {
            "image/png": "[encoded data removed]",
            "text/plain": [
              "<Figure size 1152x432 with 1 Axes>"
            ]
          },
          "metadata": {
            "tags": [],
            "needs_background": "light"
          }
        }
      ]
    },
    {
      "cell_type": "code",
      "metadata": {
        "id": "pma8r4INYFNs"
      },
      "source": [
        ""
      ],
      "execution_count": null,
      "outputs": []
    }
  ]
}